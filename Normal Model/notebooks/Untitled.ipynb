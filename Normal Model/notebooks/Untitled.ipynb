{
 "cells": [
  {
   "cell_type": "code",
   "execution_count": 2,
   "metadata": {
    "collapsed": false
   },
   "outputs": [],
   "source": [
    "using Distributions, QuadGK, PyPlot"
   ]
  },
  {
   "cell_type": "code",
   "execution_count": 34,
   "metadata": {
    "collapsed": false
   },
   "outputs": [
    {
     "data": {
      "text/plain": [
       "0.005610527441543445"
      ]
     },
     "execution_count": 34,
     "metadata": {},
     "output_type": "execute_result"
    }
   ],
   "source": [
    "a = 3\n",
    "b = -.5\n",
    "nu = 1\n",
    "\n",
    "a = 2\n",
    "b = -1\n",
    "nu = 1\n",
    "\n",
    "\n",
    "function LOO(Gamma)\n",
    "    pdf_odd(t)  = pdf(Normal(a, sqrt(2/nu)), t)\n",
    "    pdf_even(t) = pdf(Normal(b, sqrt(2/nu)), t)\n",
    "\n",
    "    I1, E1 = quadgk(t-> a/2 * min(1, sqrt(nu)/Gamma / sqrt(2) * max(0, t)) * pdf_odd(t), -5, 5)\n",
    "    I2, E2 = quadgk(t-> b/2 * min(1, sqrt(nu)/Gamma / sqrt(2) * max(0, t)) * pdf_even(t), -5, 5)\n",
    "    I1 + I2\n",
    "end\n",
    "\n",
    "# CDF(t) = cdf(Normal(), t)\n",
    "# PDF(t) = pdf(Normal(), t)\n",
    "\n",
    "# function LOO2(Gamma)\n",
    "#     a/2 * ((a-1) * CDF(Gamma - a * sqrt(nu)/sqrt(2)) - sqrt(2)/sqrt(nu) * PDF(Gamma - a* sqrt(nu)/sqrt(2)) ) + \n",
    "#     b/2 * ((b-1) * CDF(Gamma - b * sqrt(nu)/sqrt(2)) - sqrt(2)/sqrt(nu) * PDF(Gamma - b* sqrt(nu)/sqrt(2)) )     \n",
    "# end\n",
    "\n",
    "function OR(Gamma)\n",
    "    pdf_odd(t) = pdf(Normal(a, sqrt(1/nu)), t)\n",
    "    pdf_even(t) = pdf(Normal(b, sqrt(1/nu)), t)\n",
    "\n",
    "    I1, E1 = quadgk(t-> a/2 * min(1, sqrt(nu)/Gamma * max(0, t)) * pdf_odd(t), -5, 5)\n",
    "    I2, E2 = quadgk(t-> b/2 * min(1, sqrt(nu)/Gamma * max(0, t)) * pdf_even(t), -5, 5)\n",
    "    I1 + I2\n",
    "end\n",
    "\n",
    "Gamma_grid = collect(linspace(.00001, 1, 1000))\n",
    "out = map(LOO, Gamma_grid);\n",
    "out2 = map(OR, Gamma_grid);\n",
    "\n",
    "maximum(out2) - out2[indmax(out)]\n"
   ]
  },
  {
   "cell_type": "code",
   "execution_count": 35,
   "metadata": {
    "collapsed": false
   },
   "outputs": [
    {
     "data": {
      "text/plain": [
       "0.04004963963963964"
      ]
     },
     "execution_count": 35,
     "metadata": {},
     "output_type": "execute_result"
    }
   ],
   "source": [
    "Gamma_grid[indmax(out)]\n",
    "\n",
    "#writecsv(\"temp.csv\", [Gamma_grid out out2 ])"
   ]
  },
  {
   "cell_type": "code",
   "execution_count": null,
   "metadata": {
    "collapsed": false
   },
   "outputs": [],
   "source": [
    "plot(Gamma_grid, out)"
   ]
  },
  {
   "cell_type": "code",
   "execution_count": null,
   "metadata": {
    "collapsed": true
   },
   "outputs": [],
   "source": []
  }
 ],
 "metadata": {
  "kernelspec": {
   "display_name": "Julia 0.6.0",
   "language": "julia",
   "name": "julia-0.6"
  },
  "language_info": {
   "file_extension": ".jl",
   "mimetype": "application/julia",
   "name": "julia",
   "version": "0.6.0"
  }
 },
 "nbformat": 4,
 "nbformat_minor": 0
}
