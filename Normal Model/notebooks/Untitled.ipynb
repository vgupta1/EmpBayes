{
 "cells": [
  {
   "cell_type": "code",
   "execution_count": 1,
   "metadata": {
    "collapsed": false
   },
   "outputs": [
    {
     "name": "stderr",
     "output_type": "stream",
     "text": [
      "/Users/vishalgupta/.julia/v0.4/Conda/deps/usr/lib/python2.7/site-packages/matplotlib/font_manager.py:273: UserWarning: Matplotlib is building the font cache using fc-list. This may take a moment.\n",
      "  warnings.warn('Matplotlib is building the font cache using fc-list. This may take a moment.')\n",
      "WARNING: Method definition factorial(#T<:Integer, #T<:Integer) in module Base at combinatorics.jl:56 overwritten in module Combinatorics at /Users/vishalgupta/.julia/v0.4/Combinatorics/src/factorials.jl:18.\n",
      "WARNING: Method definition factorial(Integer, Integer) in module Base at combinatorics.jl:66 overwritten in module Combinatorics at /Users/vishalgupta/.julia/v0.4/Combinatorics/src/factorials.jl:28.\n",
      "WARNING: Method definition parity(AbstractArray{#T<:Integer, 1}) in module Base at combinatorics.jl:642 overwritten in module Combinatorics at /Users/vishalgupta/.julia/v0.4/Combinatorics/src/permutations.jl:221.\n",
      "WARNING: Method definition levicivita(AbstractArray{#T<:Integer, 1}) in module Base at combinatorics.jl:611 overwritten in module Combinatorics at /Users/vishalgupta/.julia/v0.4/Combinatorics/src/permutations.jl:188.\n",
      "WARNING: Method definition combinations(Any, Integer) in module Base at combinatorics.jl:182 overwritten in module Combinatorics at /Users/vishalgupta/.julia/v0.4/Combinatorics/src/combinations.jl:42.\n",
      "WARNING: Method definition permutations(Any) in module Base at combinatorics.jl:219 overwritten in module Combinatorics at /Users/vishalgupta/.julia/v0.4/Combinatorics/src/permutations.jl:24.\n",
      "WARNING: Method definition nthperm!(AbstractArray{T<:Any, 1}, Integer) in module Base at combinatorics.jl:70 overwritten in module Combinatorics at /Users/vishalgupta/.julia/v0.4/Combinatorics/src/permutations.jl:136.\n",
      "WARNING: Method definition nthperm(AbstractArray{#T<:Integer, 1}) in module Base at combinatorics.jl:92 overwritten in module Combinatorics at /Users/vishalgupta/.julia/v0.4/Combinatorics/src/permutations.jl:161.\n",
      "WARNING: Method definition nthperm(AbstractArray{T<:Any, 1}, Integer) in module Base at combinatorics.jl:89 overwritten in module Combinatorics at /Users/vishalgupta/.julia/v0.4/Combinatorics/src/permutations.jl:157.\n",
      "WARNING: Method definition partitions(Integer) in module Base at combinatorics.jl:252 overwritten in module Combinatorics at /Users/vishalgupta/.julia/v0.4/Combinatorics/src/partitions.jl:26.\n",
      "WARNING: Method definition partitions(Integer, Integer) in module Base at combinatorics.jl:318 overwritten in module Combinatorics at /Users/vishalgupta/.julia/v0.4/Combinatorics/src/partitions.jl:93.\n",
      "WARNING: Method definition partitions(AbstractArray{T<:Any, 1}) in module Base at combinatorics.jl:380 overwritten in module Combinatorics at /Users/vishalgupta/.julia/v0.4/Combinatorics/src/partitions.jl:158.\n",
      "WARNING: Method definition partitions(AbstractArray{T<:Any, 1}, Int64) in module Base at combinatorics.jl:447 overwritten in module Combinatorics at /Users/vishalgupta/.julia/v0.4/Combinatorics/src/partitions.jl:228.\n",
      "WARNING: Method definition prevprod(Array{Int64, 1}, Any) in module Base at combinatorics.jl:565 overwritten in module Combinatorics at /Users/vishalgupta/.julia/v0.4/Combinatorics/src/partitions.jl:354.\n"
     ]
    },
    {
     "data": {
      "text/plain": [
       "KP"
      ]
     },
     "execution_count": 1,
     "metadata": {},
     "output_type": "execute_result"
    }
   ],
   "source": [
    "using Distributions, PyPlot, HypothesisTests\n",
    "include(\"../KPNormal.jl\")"
   ]
  },
  {
   "cell_type": "code",
   "execution_count": null,
   "metadata": {
    "collapsed": false
   },
   "outputs": [],
   "source": [
    "n = 10\n",
    "thetas = randn(n) / sqrt(2)\n",
    "\n",
    "vs = rand(n) * 4\n",
    "zs = randn(n) ./ sqrt(vs) + thetas\n",
    "cs = rand(n) * 20\n",
    "\n",
    "dot(zs, q(cs, zs))/n"
   ]
  },
  {
   "cell_type": "markdown",
   "metadata": {},
   "source": [
    "### Is sup_tau Z' q(tau, Z) is Lipschitz in Z?\n",
    "It's not for a fixed tau.  (Not even continuous.)  Probably not for sup either, depsite plot.  "
   ]
  },
  {
   "cell_type": "code",
   "execution_count": null,
   "metadata": {
    "collapsed": false
   },
   "outputs": [],
   "source": [
    "## Plot the sup_tau 1/n Z' q(tau, Z) as a fcn of Z[indx]\n",
    "indx = 2\n",
    "z_grid = linspace(-4, 4, 20)/sqrt(vs[indx]) + thetas[indx]\n",
    "out = zeros(z_grid)\n",
    "out_q = zeros(z_grid)\n",
    "for (ix, z) in enumerate(z_grid)\n",
    "    zs[indx] = z\n",
    "    max_qs, taus_vals, objs = best_q_tau(cs, zs, vs, zs)\n",
    "    out[ix] = dot(zs, max_qs)/n\n",
    "    out_q[ix] = max_qs[indx]    \n",
    "end\n",
    "plot(z_grid, out, \"s-b\")"
   ]
  },
  {
   "cell_type": "markdown",
   "metadata": {},
   "source": [
    "### Is Z'q(tau, Z) smooth in tau?  \n",
    "No.  R(tau, Z), ' q(tau, Z) will be smooth"
   ]
  },
  {
   "cell_type": "markdown",
   "metadata": {},
   "source": [
    "### Is the rademacher average the same in distribution?\n",
    "KS test suggests no.  Which makes sense.  Because it seems to critically require independence.  "
   ]
  },
  {
   "cell_type": "code",
   "execution_count": null,
   "metadata": {
    "collapsed": true
   },
   "outputs": [],
   "source": [
    "n = 10\n",
    "thetas = randn(n) / sqrt(2)\n",
    "vs = rand(n) * 4\n",
    "cs = rand(n) * 20\n",
    "\n",
    "tau = 1\n",
    "\n",
    "#fix a single rademacher sequence\n",
    "rads = float(rand(n) .> .5)\n",
    "numSims = 100000\n",
    "out = zeros(numSims)\n",
    "out2 = zeros(numSims)\n",
    "\n",
    "for iSim = 1:numSims\n",
    "    #simulate Z and Zbar\n",
    "    zs = randn(n) ./ sqrt(vs) + thetas\n",
    "    zbars = randn(n) ./ sqrt(vs) + thetas\n",
    "\n",
    "    q1 = q(cs, shrink(zs, vs, tau))\n",
    "    q2 = q(cs, shrink(zbars, vs, tau))\n",
    "\n",
    "    out[iSim] = mean(q1 - q2) + .001*randn()\n",
    "    out2[iSim] = dot(rads, q1 - q2)/n     + .001 * randn()\n",
    "end"
   ]
  },
  {
   "cell_type": "code",
   "execution_count": null,
   "metadata": {
    "collapsed": false
   },
   "outputs": [],
   "source": [
    "UnequalVarianceTTest(out, out2)"
   ]
  },
  {
   "cell_type": "code",
   "execution_count": null,
   "metadata": {
    "collapsed": false
   },
   "outputs": [],
   "source": [
    "plot(quantile(out, linspace(.001, 1, 20)), quantile(out2, linspace(.001, 1, 20)))\n",
    "plot(quantile(out, linspace(.001, 1, 20)), quantile(out, linspace(.001, 1, 20)))"
   ]
  },
  {
   "cell_type": "markdown",
   "metadata": {},
   "source": [
    "### What is the derivative of the regularized knapsack solution?"
   ]
  },
  {
   "cell_type": "code",
   "execution_count": null,
   "metadata": {
    "collapsed": false
   },
   "outputs": [],
   "source": [
    "n = 100\n",
    "thetas = randn(n) / sqrt(2)\n",
    "vs = rand(n) * 4\n",
    "cs = rand(n) * 20\n",
    "zs = randn(n) ./ sqrt(vs) + thetas\n",
    "mu = 1.\n",
    "\n",
    "indx = 2\n",
    "z_grid = linspace(-4, 4, 100)/sqrt(vs[indx]) + thetas[indx]\n",
    "out_q = zeros(z_grid)\n",
    "for (ix, z) in enumerate(z_grid)\n",
    "    zs[indx] = z\n",
    "    out_q[ix] = KP.q_l2reg(cs, zs, vs, mu)[1][indx]\n",
    "end\n",
    "plot(z_grid, out_q, \"s-b\")\n",
    "\n"
   ]
  },
  {
   "cell_type": "code",
   "execution_count": 2,
   "metadata": {
    "collapsed": false
   },
   "outputs": [
    {
     "data": {
      "image/png": "[encoded data removed]",
      "text/plain": [
       "PyPlot.Figure(PyObject <matplotlib.figure.Figure object at 0x321698590>)"
      ]
     },
     "metadata": {},
     "output_type": "display_data"
    },
    {
     "data": {
      "text/plain": [
       "1-element Array{Any,1}:\n",
       " PyObject <matplotlib.lines.Line2D object at 0x32154fc10>"
      ]
     },
     "execution_count": 2,
     "metadata": {},
     "output_type": "execute_result"
    }
   ],
   "source": [
    "n = 100\n",
    "thetas = randn(n) / sqrt(2)\n",
    "vs = rand(n) * 4\n",
    "cs = rand(n) * 20\n",
    "zs = randn(n) ./ sqrt(vs) + thetas\n",
    "\n",
    "mu_grid = linspace(0, 3, 60)\n",
    "out = zeros(mu_grid)\n",
    "for (ix, mu) in enumerate(mu_grid)\n",
    "    out[ix] = dot(thetas, KP.q_l2reg(cs, zs, vs, mu)[1])/n\n",
    "end\n",
    "\n",
    "plot(mu_grid, out, \"s-b\")"
   ]
  },
  {
   "cell_type": "markdown",
   "metadata": {},
   "source": [
    "### Constructing a good syntehtetic example"
   ]
  },
  {
   "cell_type": "code",
   "execution_count": 10,
   "metadata": {
    "collapsed": true
   },
   "outputs": [],
   "source": [
    "using Roots, Distributions\n",
    "Phi(t) = cdf(Normal(), t)"
   ]
  },
  {
   "cell_type": "code",
   "execution_count": 128,
   "metadata": {
    "collapsed": false
   },
   "outputs": [
    {
     "name": "stdout",
     "output_type": "stream",
     "text": [
      "SAA:\n",
      "0. \t 0.3043642111134087 \t 0.23855723309605797\n",
      "L2:\n",
      "0.6655953493673264 \t 1.050951133828992 \t 0.823723635864638\n",
      "MM:\n",
      "0.9229420528405273 \t 1.0253531744997804 \t 0.8036602442847166\n",
      "Oracle:\n",
      "0.14477894391818752 \t 1.275854046273469\n"
     ]
    }
   ],
   "source": [
    "#Assume the second theta/v is at 1, 1\n",
    "\n",
    "theta_l = .01\n",
    "v_l = .012\n",
    "theta_h = 1.5\n",
    "v_h = .1\n",
    "\n",
    "#Determines the mixture quantile and proportions\n",
    "function thresh(tau) \n",
    "    f(q) = Phi(q * (v_l+tau)/sqrt(v_l) - sqrt(v_l)*theta_l) + \n",
    "            Phi(q*(1+tau)-1) + \n",
    "            Phi(q * (v_h+tau)/sqrt(v_h) - sqrt(v_h)*theta_h) -\n",
    "            3*.9\n",
    "    qstar = fzero(f, [0, 10])\n",
    "    (qstar, 10/3*(1-[Phi(qstar * (v_l+tau)/sqrt(v_l) - sqrt(v_l)*theta_l), \n",
    "        Phi(qstar*(1+tau)-1), \n",
    "        Phi(qstar * (v_h+tau)/sqrt(v_h) - sqrt(v_h)*theta_h)] ))\n",
    "end    \n",
    "\n",
    "#Estimate the optimal tau value w.r.t l2\n",
    "n = 10002\n",
    "thetas = ones(Float64, n)\n",
    "thetas[1:n/3] = theta_l\n",
    "thetas[2n/3:end] = theta_h\n",
    "\n",
    "vs = ones(Float64, n)\n",
    "vs[1:n/3] = v_l\n",
    "vs[2n/3:end] = v_h\n",
    "\n",
    "f(tau) = mean(-2*(vs + vs.^2 .* thetas.^2)./(vs + tau).^3 + 2*vs.*thetas.^2./(vs + tau).^2)\n",
    "\n",
    "tau_l2  = fzero(f, [0, 5])\n",
    "obj_l2 = dot(thresh(tau_l2)[2], [theta_l, 1, theta_h])\n",
    "\n",
    "\n",
    "#Compute the oracle value of tau\n",
    "tau_grid = linspace(0, .5, 20)\n",
    "f(tau) = dot(thresh(tau)[2], [theta_l, 1, theta_h])\n",
    "res = optimize(t-> -1*f(t), 0, 1)\n",
    "tau_OR = Optim.minimizer(res)\n",
    "obj_OR = Optim.minimum(res) * -1\n",
    "tau_OR, obj_OR\n",
    "\n",
    "tau_mm = 1/mean(thetas.^2)\n",
    "obj_mm = dot(thresh(tau_mm)[2], [theta_l, 1, theta_h])\n",
    "\n",
    "println(\"SAA:\")\n",
    "obj_SAA = dot(thresh(0.)[2], [theta_l, 1, theta_h])\n",
    "println(\"0. \\t $obj_SAA \\t $(obj_SAA/obj_OR)\")\n",
    "\n",
    "println(\"L2:\")\n",
    "println(\"$tau_l2 \\t $obj_l2 \\t $(obj_l2/obj_OR)\")\n",
    "\n",
    "println(\"MM:\")\n",
    "println(\"$tau_mm \\t $obj_mm \\t $(obj_mm/obj_OR)\")\n",
    "\n",
    "println(\"Oracle:\")\n",
    "println(\"$tauOR \\t $obj_OR\")"
   ]
  },
  {
   "cell_type": "code",
   "execution_count": 117,
   "metadata": {
    "collapsed": false
   },
   "outputs": [
    {
     "data": {
      "text/plain": [
       "0.9016857524130816"
      ]
     },
     "execution_count": 117,
     "metadata": {},
     "output_type": "execute_result"
    }
   ],
   "source": []
  },
  {
   "cell_type": "code",
   "execution_count": 95,
   "metadata": {
    "collapsed": false
   },
   "outputs": [
    {
     "data": {
      "text/plain": [
       "(0.14477894391818752,1.3504776458079317)"
      ]
     },
     "execution_count": 95,
     "metadata": {},
     "output_type": "execute_result"
    }
   ],
   "source": [
    "\n"
   ]
  },
  {
   "cell_type": "code",
   "execution_count": 88,
   "metadata": {
    "collapsed": false
   },
   "outputs": [
    {
     "name": "stderr",
     "output_type": "stream",
     "text": [
      "INFO: Recompiling stale cache file /Users/vishalgupta/.julia/lib/v0.4/Optim.ji for module Optim.\n",
      "INFO: Recompiling stale cache file /Users/vishalgupta/.julia/lib/v0.4/PositiveFactorizations.ji for module PositiveFactorizations.\n"
     ]
    }
   ],
   "source": [
    "using Optim"
   ]
  },
  {
   "cell_type": "code",
   "execution_count": null,
   "metadata": {
    "collapsed": true
   },
   "outputs": [],
   "source": []
  }
 ],
 "metadata": {
  "kernelspec": {
   "display_name": "Julia 0.4.2",
   "language": "julia",
   "name": "julia-0.4"
  },
  "language_info": {
   "file_extension": ".jl",
   "mimetype": "application/julia",
   "name": "julia",
   "version": "0.4.2"
  }
 },
 "nbformat": 4,
 "nbformat_minor": 0
}
