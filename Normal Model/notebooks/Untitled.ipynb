{
 "cells": [
  {
   "cell_type": "markdown",
   "metadata": {},
   "source": [
    "## Debugging \\Tau  -Grid for KP"
   ]
  },
  {
   "cell_type": "code",
   "execution_count": 1,
   "metadata": {
    "collapsed": false
   },
   "outputs": [],
   "source": [
    "using Distributions, Gadfly, Gurobi, JuMP"
   ]
  },
  {
   "cell_type": "code",
   "execution_count": 2,
   "metadata": {
    "collapsed": false
   },
   "outputs": [],
   "source": [
    "include(\"KPNormal.jl\")\n",
    "using KP"
   ]
  },
  {
   "cell_type": "code",
   "execution_count": 3,
   "metadata": {
    "collapsed": false
   },
   "outputs": [
    {
     "data": {
      "text/plain": [
       "(0.0695353719847883,0.045344855226254255)"
      ]
     },
     "execution_count": 3,
     "metadata": {},
     "output_type": "execute_result"
    }
   ],
   "source": [
    "## Establish a clean setup\n",
    "#srand(8675309)\n",
    "n = 100\n",
    "cs = rand(n) * 20   #about 10% of items fit\n",
    "taus = 4. * rand(n)\n",
    "sigs = 1./sqrt(taus)\n",
    "tau0 = 3\n",
    "\n",
    "thetas = randn(n) / sqrt(tau0)\n",
    "zs = randn(n) .* sigs + thetas\n",
    "noise = randn(n) .* sigs\n",
    "xs = zs + noise\n",
    "ys = zs - noise\n",
    "\n",
    "zstar = KP.ideal_val(thetas, cs)\n",
    "\n",
    "#naive x values\n",
    "qs_naive = KP.q(cs, xs)\n",
    "dot(qs_naive, ys)/n, dot(qs_naive, thetas)/n"
   ]
  },
  {
   "cell_type": "code",
   "execution_count": null,
   "metadata": {
    "collapsed": false
   },
   "outputs": [],
   "source": [
    "## try a non-standard set-up\n",
    "n = 100\n",
    "cs = rand(n) * 20\n",
    "taus = 8. * rand(n)\n",
    "sigs = 1./sqrt(taus)\n",
    "\n",
    "thetas = ones(n)\n",
    "thetas[1:2:n] = 2\n",
    "zs = randn(n) .* sigs + thetas\n",
    "noise = randn(n) .* sigs\n",
    "xs = zs + noise\n",
    "ys = zs - noise\n",
    "\n",
    "zstar = KP.ideal_val(thetas, cs)\n",
    "\n",
    "#naive x values\n",
    "qs_naive = KP.q(cs, xs)\n",
    "dot(qs_naive, ys)/n, dot(qs_naive, thetas)/n"
   ]
  },
  {
   "cell_type": "code",
   "execution_count": null,
   "metadata": {
    "collapsed": false
   },
   "outputs": [],
   "source": [
    "# ##Debugging.  Try to get the randon numbers corresponding to third iteration.\n",
    "# srand(8675309)\n",
    "# n_max = 100000\n",
    "# n = 100\n",
    "# tau0 = 1\n",
    "\n",
    "# #costs and taus\n",
    "# cs = rand(n_max) * 20   #about 10% of items fit\n",
    "# taus = 8. * rand(n_max)\n",
    "# sigs = 1./sqrt(taus)\n",
    "\n",
    "# #burn two and gen one.\n",
    "# thetas = randn(n_max) / sqrt(tau0)\n",
    "# xs = randn(n_max) .* sigs + thetas\n",
    "# ys = randn(n_max) .* sigs + thetas\n",
    "\n",
    "# thetas = randn(n_max) / sqrt(tau0)\n",
    "# xs = randn(n_max) .* sigs + thetas\n",
    "# ys = randn(n_max) .* sigs + thetas\n",
    "\n",
    "# thetas = randn(n_max) / sqrt(tau0)\n",
    "# xs = randn(n_max) .* sigs + thetas\n",
    "# ys = randn(n_max) .* sigs + thetas\n",
    "# zs = .5 * (xs + ys)\n",
    "\n",
    "# #reclip everyone for sanity\n",
    "# thetas = thetas[1:n]\n",
    "# cs = cs[1:n]\n",
    "# taus = taus[1:n]\n",
    "# xs = xs[1:n]\n",
    "# ys = ys[1:n]\n",
    "# zs = zs[1:n]\n",
    "\n",
    "# zstar = KP.ideal_val(thetas, cs)\n",
    "\n",
    "# #naive x values\n",
    "# qs_naive = KP.q(cs, xs)\n",
    "# dot(qs_naive, ys)/n, dot(qs_naive, thetas)/n"
   ]
  },
  {
   "cell_type": "code",
   "execution_count": null,
   "metadata": {
    "collapsed": false
   },
   "outputs": [],
   "source": [
    "# #Resort everyone to make life easier. \n",
    "# indx = sortperm(xs ./ cs, rev=true)\n",
    "# taus = taus[indx]\n",
    "# xs = xs[indx]\n",
    "# thetas = thetas[indx]\n",
    "# cs = cs[indx]\n",
    "# [cs xs KP.q(cs, xs)]"
   ]
  },
  {
   "cell_type": "code",
   "execution_count": null,
   "metadata": {
    "collapsed": false
   },
   "outputs": [],
   "source": [
    "##compute the same along a linear grid\n",
    "max_qs, vals, objs = KP.best_q_tau(cs, xs, taus, ys);\n",
    "objs/= zstar\n",
    "\n",
    "tau_grid = collect(linspace(0, maximum(vals)+1, 100))\n",
    "tau_grid = append!(tau_grid, vals)\n",
    "tau_grid = sort!(tau_grid)\n",
    "\n",
    "outs = zeros(length(tau_grid))\n",
    "for ix = 1:length(tau_grid)\n",
    "    rs = KP.shrink(xs, taus, tau_grid[ix])\n",
    "    q = KP.q(cs, rs)\n",
    "    outs[ix] = dot(q, ys)/n\n",
    "end\n",
    "\n",
    "outs /= zstar\n",
    "\n",
    "plot(layer(x=tau_grid, y=outs, Geom.line, Theme(default_color=color(\"black\"))), \n",
    "layer(x=vals, y=objs, Geom.point)) "
   ]
  },
  {
   "cell_type": "code",
   "execution_count": null,
   "metadata": {
    "collapsed": false
   },
   "outputs": [],
   "source": [
    "##compute the q_mle and qmm values to check they make sense\n",
    "tau_mle, qs_mle = KP.q_MLE(cs, zs, taus)\n",
    "dot(ys, qs_mle)/n, dot(thetas, qs_mle)/n\n"
   ]
  },
  {
   "cell_type": "code",
   "execution_count": null,
   "metadata": {
    "collapsed": false
   },
   "outputs": [],
   "source": [
    "tau_mm, qs_mm = KP.q_MM(cs, zs, taus)\n",
    "dot(ys, qs_mm)/n, dot(thetas, qs_mm)/n"
   ]
  },
  {
   "cell_type": "code",
   "execution_count": null,
   "metadata": {
    "collapsed": false
   },
   "outputs": [],
   "source": []
  },
  {
   "cell_type": "code",
   "execution_count": null,
   "metadata": {
    "collapsed": false
   },
   "outputs": [],
   "source": [
    "# #perturb a little and compare\n",
    "# xs2 = KP.shrink(xs, taus, 0)\n",
    "# m2 = Model(solver=GurobiSolver(OutputFlag=false))\n",
    "# @defVar(m2, 0 <= q2[1:n] <= 1)\n",
    "# @addConstraint(m2, budget_constr, sum{cs[i]*q2[i], i=1:n}/ n <= 1 )\n",
    "# @setObjective(m2, Max, sum{xs2[i] * q2[i], i=1:n}/ n )\n",
    "# solve(m2)\n",
    "# lambda2 = getDual(budget_constr)\n",
    "# red_costs2 = [getDual(q2[ix]) for ix = 1:n]\n",
    "# qs2 = getValue(q2)\n",
    "\n",
    "# #println(\"Svals:\\n\", KP.sbars(xs, cs, taus, 6))\n",
    "\n",
    "\n",
    "# [max_qs qs2 red_costs2]\n",
    "\n",
    "# dot(thetas, qs2)/n, dot(cs, qs2)/n, lambda2"
   ]
  },
  {
   "cell_type": "code",
   "execution_count": null,
   "metadata": {
    "collapsed": false
   },
   "outputs": [],
   "source": [
    "# ##  Solve a knapsack the stupid way to figure out what's going on.\n",
    "# m = Model(solver=GurobiSolver(OutputFlag=false))\n",
    "# @defVar(m, 0 <= q[1:n] <= 1)\n",
    "# @addConstraint(m, budget_constr, sum{cs[i]*q[i], i=1:n}/ n <=1  )\n",
    "# @setObjective(m, Max, sum{xs[i] * q[i], i=1:n}/ n )\n",
    "# solve(m)\n",
    "# qs = getValue(q)\n",
    "# red_costs = [getDual(q[ix]) for ix=1:n]\n",
    "\n",
    "# lambda = getDual(budget_constr)\n",
    "\n",
    "# ##use gurobi's feature to try and pick out the inner thing\n",
    "# mpb = getInternalModel(m) # MathProgBase level model object\n",
    "# grb = MathProgBase.getrawsolver(mpb) # Gurobi level model object\n",
    "# min_obj_coeffs = Gurobi.get_dblattrarray(grb, \"SAObjLow\", 1, MathProgBase.numvar(m))\n",
    "\n",
    "# [cs xs KP.q(cs, xs) qs]"
   ]
  },
  {
   "cell_type": "code",
   "execution_count": 4,
   "metadata": {
    "collapsed": false
   },
   "outputs": [
    {
     "name": "stdout",
     "output_type": "stream",
     "text": [
      "elapsed time: 0.00011863 seconds\n",
      "elapsed time: 6.9242e-5 seconds\n",
      "elapsed time: 8.6982e-5 seconds\n",
      "elapsed time: 7.3697e-5 seconds\n",
      "elapsed time: 0.100122899 seconds\n",
      "elapsed time: 7.4213e-5 seconds\n",
      "elapsed time: 0.012438636 seconds\n",
      "elapsed time: 0.000150658 seconds\n",
      "elapsed time: 0.000120948 seconds\n",
      "elapsed time: 0.000169752 seconds\n",
      "elapsed time: 0.000381363 seconds\n",
      "elapsed time: 0.000219228 seconds\n",
      "elapsed time: 0.000259041 seconds\n",
      "elapsed time: 0.008081531 seconds\n",
      "elapsed time: 0.000320136 seconds\n",
      "elapsed time: 0.002381345 seconds\n",
      "elapsed time: 0.002499744 seconds\n",
      "elapsed time: 0.003830694 seconds\n",
      "elapsed time: 0.002607408 seconds\n",
      "elapsed time: 0.002807523 seconds\n",
      "elapsed time: 0.0023699 seconds\n",
      "elapsed time: 0.002704565 seconds\n",
      "elapsed time: 0.122078206 seconds\n",
      "elapsed time: 0.003500516 seconds\n",
      "elapsed time: 0.139298024 seconds\n",
      "elapsed time: 0.157789408 seconds\n",
      "elapsed time: 0.137241491 seconds\n",
      "elapsed time: 0.033520877 seconds\n",
      "elapsed time: 0.028638925 seconds\n",
      "elapsed time: 0.023576866 seconds\n",
      "elapsed time: 0.023503021 seconds\n",
      "elapsed time: 0.679922186 seconds\n",
      "elapsed time: 0.035806594 seconds\n",
      "elapsed time: 16.269748617 seconds\n",
      "elapsed time: 15.893947904 seconds\n",
      "elapsed time: 15.367737959 seconds\n",
      "elapsed time: 7.3741e-5 seconds\n",
      "elapsed time: 2.4127e-5 seconds\n",
      "elapsed time: 2.3164e-5 seconds\n",
      "elapsed time: 3.6581e-5 seconds\n",
      "elapsed time: 0.000804546 seconds\n",
      "elapsed time: 3.6081e-5 seconds\n",
      "elapsed time: 9.9203e-5 seconds\n",
      "elapsed time: 8.3958e-5 seconds\n",
      "elapsed time: 9.4423e-5 seconds\n",
      "elapsed time: 0.000155965 seconds\n",
      "elapsed time: 0.000151065 seconds\n",
      "elapsed time: 0.000149929 seconds\n",
      "elapsed time: 0.000162186 seconds\n",
      "elapsed time: 0.006433106 seconds\n",
      "elapsed time: 0.000203598 seconds\n",
      "elapsed time: 0.003850722 seconds\n",
      "elapsed time: 0.002551159 seconds\n",
      "elapsed time: 0.002068127 seconds\n",
      "elapsed time: 0.00161444 seconds\n",
      "elapsed time: 0.001632141 seconds\n",
      "elapsed time: 0.001675499 seconds\n",
      "elapsed time: 0.001675869 seconds\n",
      "elapsed time: 0.055075183 seconds\n",
      "elapsed time: 0.002476301 seconds\n",
      "elapsed time: 0.141784215 seconds\n",
      "elapsed time: 0.147296881 seconds\n",
      "elapsed time: 0.1379965 seconds\n",
      "elapsed time: 0.023881699 seconds\n",
      "elapsed time: 0.073310282 seconds\n",
      "elapsed time: 0.022931009 seconds\n",
      "elapsed time: 0.02665298 seconds\n",
      "elapsed time: 0.609392428 seconds\n",
      "elapsed time: 0.033060397 seconds\n",
      "elapsed time: 16.099026096 seconds\n",
      "elapsed time: 16"
     ]
    },
    {
     "ename": "LoadError",
     "evalue": "LoadError: InterruptException:\nwhile loading In[4], in expression starting on line 1",
     "output_type": "error",
     "traceback": [
      "LoadError: InterruptException:\nwhile loading In[4], in expression starting on line 1",
      "",
      " in sbars at /Users/vishalgupta/Dropbox/Empirical Bayes/Experiments/EmpBayes/Normal Model/KPNormal.jl:39",
      " in best_q_tau at /Users/vishalgupta/Dropbox/Empirical Bayes/Experiments/EmpBayes/Normal Model/KPNormal.jl:168",
      " in test1 at /Users/vishalgupta/Dropbox/Empirical Bayes/Experiments/EmpBayes/Normal Model/KPNormal.jl:334"
     ]
    }
   ],
   "source": [
    "KP.test1(\"temp\", 2, [100, 1000, 10000, 100000], 8675309, 1)"
   ]
  },
  {
   "cell_type": "code",
   "execution_count": null,
   "metadata": {
    "collapsed": true
   },
   "outputs": [],
   "source": []
  }
 ],
 "metadata": {
  "kernelspec": {
   "display_name": "Julia 0.4.2",
   "language": "julia",
   "name": "julia-0.4"
  },
  "language_info": {
   "file_extension": ".jl",
   "mimetype": "application/julia",
   "name": "julia",
   "version": "0.4.2"
  }
 },
 "nbformat": 4,
 "nbformat_minor": 0
}
